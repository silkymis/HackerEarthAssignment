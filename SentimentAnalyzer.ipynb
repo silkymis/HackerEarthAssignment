{
 "cells": [
  {
   "cell_type": "markdown",
   "metadata": {},
   "source": [
    "# 1. Import Necessary Packages"
   ]
  },
  {
   "cell_type": "code",
   "execution_count": 1,
   "metadata": {},
   "outputs": [],
   "source": [
    "import pandas as pd\n",
    "import numpy as np\n",
    "\n",
    "import sklearn\n",
    "\n",
    "import normalization as nm\n",
    "import FeatureEngineering as fe\n",
    "import trainTestData as tsplit\n",
    "import NaiveBayesClassifier as nb\n",
    "\n",
    "import warnings \n",
    "warnings.filterwarnings(\"ignore\", category=DeprecationWarning)"
   ]
  },
  {
   "cell_type": "markdown",
   "metadata": {},
   "source": [
    "# 2. Load Data into DataFrame"
   ]
  },
  {
   "cell_type": "code",
   "execution_count": 2,
   "metadata": {},
   "outputs": [
    {
     "data": {
      "text/html": [
       "<div>\n",
       "<style scoped>\n",
       "    .dataframe tbody tr th:only-of-type {\n",
       "        vertical-align: middle;\n",
       "    }\n",
       "\n",
       "    .dataframe tbody tr th {\n",
       "        vertical-align: top;\n",
       "    }\n",
       "\n",
       "    .dataframe thead th {\n",
       "        text-align: right;\n",
       "    }\n",
       "</style>\n",
       "<table border=\"1\" class=\"dataframe\">\n",
       "  <thead>\n",
       "    <tr style=\"text-align: right;\">\n",
       "      <th></th>\n",
       "      <th>Reviewer</th>\n",
       "      <th>DateOfReview</th>\n",
       "      <th>Colour</th>\n",
       "      <th>Size</th>\n",
       "      <th>VerifiedPurchase</th>\n",
       "      <th>Rating</th>\n",
       "      <th>ReviewTitle</th>\n",
       "      <th>ReviewDescription</th>\n",
       "    </tr>\n",
       "  </thead>\n",
       "  <tbody>\n",
       "    <tr>\n",
       "      <th>0</th>\n",
       "      <td>Amazon Customer</td>\n",
       "      <td>2018-10-31</td>\n",
       "      <td>Silver</td>\n",
       "      <td>256GB</td>\n",
       "      <td>True</td>\n",
       "      <td>1.0</td>\n",
       "      <td>Amazon Return support is too poor</td>\n",
       "      <td>I purchased iphone X on 26th Oct'18 and started using from 28th Oct'18. When i received the product, it was already opened which i informed Amazon representative but i was told that it is original...</td>\n",
       "    </tr>\n",
       "    <tr>\n",
       "      <th>1</th>\n",
       "      <td>ShowrobDa</td>\n",
       "      <td>2018-10-12</td>\n",
       "      <td>Space Grey</td>\n",
       "      <td>64GB</td>\n",
       "      <td>True</td>\n",
       "      <td>5.0</td>\n",
       "      <td>An amazing deal at INR 69,999/-</td>\n",
       "      <td>This is my 3rd iPhone after iPhone 4S and iPhone 6S Plus.Being an utter working middle class guy, I don't switch my iPhones very often (my android phones barely lasted me 9 months though). I do co...</td>\n",
       "    </tr>\n",
       "    <tr>\n",
       "      <th>2</th>\n",
       "      <td>Ktron</td>\n",
       "      <td>2018-10-11</td>\n",
       "      <td>Space Grey</td>\n",
       "      <td>256GB</td>\n",
       "      <td>True</td>\n",
       "      <td>5.0</td>\n",
       "      <td>Amazing beast(iPhone X 256 GB) for discount!!</td>\n",
       "      <td>Thanks to Appario Retail Private Ltd, I got this 256 GB beast during amazon great Indian sale for under 80k. Additionally received cash back of Rs.1000. On delivery, I checked at imei24 and apple ...</td>\n",
       "    </tr>\n",
       "    <tr>\n",
       "      <th>3</th>\n",
       "      <td>Amazon Customer</td>\n",
       "      <td>2018-11-02</td>\n",
       "      <td>Space Grey</td>\n",
       "      <td>64GB</td>\n",
       "      <td>True</td>\n",
       "      <td>1.0</td>\n",
       "      <td>Battery charging is very bad in my new iPhone X</td>\n",
       "      <td>I ordered new iPhone X grey on Amazon sale. Phone looks absolutely fine but battery is very weak though it has fast charging option my phone requires 4-5 hours to get charged completely n also my ...</td>\n",
       "    </tr>\n",
       "    <tr>\n",
       "      <th>4</th>\n",
       "      <td>Amritpal Singh</td>\n",
       "      <td>2018-10-24</td>\n",
       "      <td>Space Grey</td>\n",
       "      <td>64GB</td>\n",
       "      <td>True</td>\n",
       "      <td>1.0</td>\n",
       "      <td>Shame don't buy</td>\n",
       "      <td>Apple iPhone X (Space Grey, 3GB RAM, 64GB Storage)Poor quality productDidn’t turn on at all after unboxingSHAME and waste of money</td>\n",
       "    </tr>\n",
       "  </tbody>\n",
       "</table>\n",
       "</div>"
      ],
      "text/plain": [
       "          Reviewer DateOfReview      Colour   Size  VerifiedPurchase  Rating  \\\n",
       "0  Amazon Customer   2018-10-31      Silver  256GB              True     1.0   \n",
       "1        ShowrobDa   2018-10-12  Space Grey   64GB              True     5.0   \n",
       "2            Ktron   2018-10-11  Space Grey  256GB              True     5.0   \n",
       "3  Amazon Customer   2018-11-02  Space Grey   64GB              True     1.0   \n",
       "4   Amritpal Singh   2018-10-24  Space Grey   64GB              True     1.0   \n",
       "\n",
       "                                       ReviewTitle  \\\n",
       "0                Amazon Return support is too poor   \n",
       "1                  An amazing deal at INR 69,999/-   \n",
       "2    Amazing beast(iPhone X 256 GB) for discount!!   \n",
       "3  Battery charging is very bad in my new iPhone X   \n",
       "4                                  Shame don't buy   \n",
       "\n",
       "                                                                                                                                                                                         ReviewDescription  \n",
       "0  I purchased iphone X on 26th Oct'18 and started using from 28th Oct'18. When i received the product, it was already opened which i informed Amazon representative but i was told that it is original...  \n",
       "1  This is my 3rd iPhone after iPhone 4S and iPhone 6S Plus.Being an utter working middle class guy, I don't switch my iPhones very often (my android phones barely lasted me 9 months though). I do co...  \n",
       "2  Thanks to Appario Retail Private Ltd, I got this 256 GB beast during amazon great Indian sale for under 80k. Additionally received cash back of Rs.1000. On delivery, I checked at imei24 and apple ...  \n",
       "3  I ordered new iPhone X grey on Amazon sale. Phone looks absolutely fine but battery is very weak though it has fast charging option my phone requires 4-5 hours to get charged completely n also my ...  \n",
       "4                                                                       Apple iPhone X (Space Grey, 3GB RAM, 64GB Storage)Poor quality productDidn’t turn on at all after unboxingSHAME and waste of money  "
      ]
     },
     "execution_count": 2,
     "metadata": {},
     "output_type": "execute_result"
    }
   ],
   "source": [
    "pd.options.display.max_colwidth = 200\n",
    "\n",
    "df = pd.DataFrame()\n",
    "df = pd.read_csv('AmazonReviews.csv')\n",
    "df.head()"
   ]
  },
  {
   "cell_type": "markdown",
   "metadata": {},
   "source": [
    "# 3. PreProcess Text = df['ReviewDescription']"
   ]
  },
  {
   "cell_type": "code",
   "execution_count": 3,
   "metadata": {
    "scrolled": true
   },
   "outputs": [
    {
     "data": {
      "text/html": [
       "<div>\n",
       "<style scoped>\n",
       "    .dataframe tbody tr th:only-of-type {\n",
       "        vertical-align: middle;\n",
       "    }\n",
       "\n",
       "    .dataframe tbody tr th {\n",
       "        vertical-align: top;\n",
       "    }\n",
       "\n",
       "    .dataframe thead th {\n",
       "        text-align: right;\n",
       "    }\n",
       "</style>\n",
       "<table border=\"1\" class=\"dataframe\">\n",
       "  <thead>\n",
       "    <tr style=\"text-align: right;\">\n",
       "      <th></th>\n",
       "      <th>Reviewer</th>\n",
       "      <th>DateOfReview</th>\n",
       "      <th>Colour</th>\n",
       "      <th>Size</th>\n",
       "      <th>VerifiedPurchase</th>\n",
       "      <th>Rating</th>\n",
       "      <th>ReviewTitle</th>\n",
       "      <th>ReviewDescription</th>\n",
       "      <th>title_processed</th>\n",
       "      <th>desc_processed</th>\n",
       "      <th>metaCorpus_processed</th>\n",
       "    </tr>\n",
       "  </thead>\n",
       "  <tbody>\n",
       "    <tr>\n",
       "      <th>0</th>\n",
       "      <td>Amazon Customer</td>\n",
       "      <td>2018-10-31</td>\n",
       "      <td>Silver</td>\n",
       "      <td>256GB</td>\n",
       "      <td>True</td>\n",
       "      <td>1.0</td>\n",
       "      <td>Amazon Return support is too poor</td>\n",
       "      <td>I purchased iphone X on 26th Oct'18 and started using from 28th Oct'18. When i received the product, it was already opened which i informed Amazon representative but i was told that it is original...</td>\n",
       "      <td>amazon return support poor</td>\n",
       "      <td>purchase iphone x 26th oct18 start use 28th oct18 receive product already open inform amazon representative tell original product not issue within two day start give issue network wifi connectivit...</td>\n",
       "      <td>amazon customer silver 256 gb amazon return support poor purchase iphone x 26th oct18 start use 28th oct18 receive product already open inform amazon representative tell original product not issue...</td>\n",
       "    </tr>\n",
       "    <tr>\n",
       "      <th>1</th>\n",
       "      <td>ShowrobDa</td>\n",
       "      <td>2018-10-12</td>\n",
       "      <td>Space Grey</td>\n",
       "      <td>64GB</td>\n",
       "      <td>True</td>\n",
       "      <td>5.0</td>\n",
       "      <td>An amazing deal at INR 69,999/-</td>\n",
       "      <td>This is my 3rd iPhone after iPhone 4S and iPhone 6S Plus.Being an utter working middle class guy, I don't switch my iPhones very often (my android phones barely lasted me 9 months though). I do co...</td>\n",
       "      <td>amazing deal inr 69999</td>\n",
       "      <td>3rd iphone iphone 4s iphone 6s plus utter work middle class guy not switch iphone often android phone barely last 9 month though consider extremely expensive would not go one unless feel worth mon...</td>\n",
       "      <td>showrobda space grey 64 gb amazing deal inr 69999 3rd iphone iphone 4s iphone 6s plus utter work middle class guy not switch iphone often android phone barely last 9 month though consider extremel...</td>\n",
       "    </tr>\n",
       "    <tr>\n",
       "      <th>2</th>\n",
       "      <td>Ktron</td>\n",
       "      <td>2018-10-11</td>\n",
       "      <td>Space Grey</td>\n",
       "      <td>256GB</td>\n",
       "      <td>True</td>\n",
       "      <td>5.0</td>\n",
       "      <td>Amazing beast(iPhone X 256 GB) for discount!!</td>\n",
       "      <td>Thanks to Appario Retail Private Ltd, I got this 256 GB beast during amazon great Indian sale for under 80k. Additionally received cash back of Rs.1000. On delivery, I checked at imei24 and apple ...</td>\n",
       "      <td>amazing beast iphone x 256 gb discount</td>\n",
       "      <td>thank appario retail private ltd get 256 gb beast amazon great indian sale 80k additionally receive cash back rs 1000 delivery check imei24 apple site checkcoverage authenticity warranty product s...</td>\n",
       "      <td>ktron space grey 256 gb amazing beast iphone x 256 gb discount thank appario retail private ltd get 256 gb beast amazon great indian sale 80k additionally receive cash back rs 1000 delivery check ...</td>\n",
       "    </tr>\n",
       "    <tr>\n",
       "      <th>3</th>\n",
       "      <td>Amazon Customer</td>\n",
       "      <td>2018-11-02</td>\n",
       "      <td>Space Grey</td>\n",
       "      <td>64GB</td>\n",
       "      <td>True</td>\n",
       "      <td>1.0</td>\n",
       "      <td>Battery charging is very bad in my new iPhone X</td>\n",
       "      <td>I ordered new iPhone X grey on Amazon sale. Phone looks absolutely fine but battery is very weak though it has fast charging option my phone requires 4-5 hours to get charged completely n also my ...</td>\n",
       "      <td>battery charging bad new iphone x</td>\n",
       "      <td>order new iphone x grey amazon sale phone look absolutely fine battery weak though fast charge option phone require 4 5 hour get charge completely n also phone slow feel like get refurbish phone g...</td>\n",
       "      <td>amazon customer space grey 64 gb battery charging bad new iphone x order new iphone x grey amazon sale phone look absolutely fine battery weak though fast charge option phone require 4 5 hour get ...</td>\n",
       "    </tr>\n",
       "    <tr>\n",
       "      <th>4</th>\n",
       "      <td>Amritpal Singh</td>\n",
       "      <td>2018-10-24</td>\n",
       "      <td>Space Grey</td>\n",
       "      <td>64GB</td>\n",
       "      <td>True</td>\n",
       "      <td>1.0</td>\n",
       "      <td>Shame don't buy</td>\n",
       "      <td>Apple iPhone X (Space Grey, 3GB RAM, 64GB Storage)Poor quality productDidn’t turn on at all after unboxingSHAME and waste of money</td>\n",
       "      <td>shame not buy</td>\n",
       "      <td>apple iphone x space grey 3 gb ram 64 gb storage poor quality productdidnt turn unboxingshame waste money</td>\n",
       "      <td>amritpal singh space grey 64 gb shame not buy apple iphone x space grey 3 gb ram 64 gb storage poor quality productdidnt turn unboxingshame waste money</td>\n",
       "    </tr>\n",
       "  </tbody>\n",
       "</table>\n",
       "</div>"
      ],
      "text/plain": [
       "          Reviewer DateOfReview      Colour   Size  VerifiedPurchase  Rating  \\\n",
       "0  Amazon Customer   2018-10-31      Silver  256GB              True     1.0   \n",
       "1        ShowrobDa   2018-10-12  Space Grey   64GB              True     5.0   \n",
       "2            Ktron   2018-10-11  Space Grey  256GB              True     5.0   \n",
       "3  Amazon Customer   2018-11-02  Space Grey   64GB              True     1.0   \n",
       "4   Amritpal Singh   2018-10-24  Space Grey   64GB              True     1.0   \n",
       "\n",
       "                                       ReviewTitle  \\\n",
       "0                Amazon Return support is too poor   \n",
       "1                  An amazing deal at INR 69,999/-   \n",
       "2    Amazing beast(iPhone X 256 GB) for discount!!   \n",
       "3  Battery charging is very bad in my new iPhone X   \n",
       "4                                  Shame don't buy   \n",
       "\n",
       "                                                                                                                                                                                         ReviewDescription  \\\n",
       "0  I purchased iphone X on 26th Oct'18 and started using from 28th Oct'18. When i received the product, it was already opened which i informed Amazon representative but i was told that it is original...   \n",
       "1  This is my 3rd iPhone after iPhone 4S and iPhone 6S Plus.Being an utter working middle class guy, I don't switch my iPhones very often (my android phones barely lasted me 9 months though). I do co...   \n",
       "2  Thanks to Appario Retail Private Ltd, I got this 256 GB beast during amazon great Indian sale for under 80k. Additionally received cash back of Rs.1000. On delivery, I checked at imei24 and apple ...   \n",
       "3  I ordered new iPhone X grey on Amazon sale. Phone looks absolutely fine but battery is very weak though it has fast charging option my phone requires 4-5 hours to get charged completely n also my ...   \n",
       "4                                                                       Apple iPhone X (Space Grey, 3GB RAM, 64GB Storage)Poor quality productDidn’t turn on at all after unboxingSHAME and waste of money   \n",
       "\n",
       "                          title_processed  \\\n",
       "0              amazon return support poor   \n",
       "1                  amazing deal inr 69999   \n",
       "2  amazing beast iphone x 256 gb discount   \n",
       "3       battery charging bad new iphone x   \n",
       "4                           shame not buy   \n",
       "\n",
       "                                                                                                                                                                                            desc_processed  \\\n",
       "0  purchase iphone x 26th oct18 start use 28th oct18 receive product already open inform amazon representative tell original product not issue within two day start give issue network wifi connectivit...   \n",
       "1  3rd iphone iphone 4s iphone 6s plus utter work middle class guy not switch iphone often android phone barely last 9 month though consider extremely expensive would not go one unless feel worth mon...   \n",
       "2  thank appario retail private ltd get 256 gb beast amazon great indian sale 80k additionally receive cash back rs 1000 delivery check imei24 apple site checkcoverage authenticity warranty product s...   \n",
       "3  order new iphone x grey amazon sale phone look absolutely fine battery weak though fast charge option phone require 4 5 hour get charge completely n also phone slow feel like get refurbish phone g...   \n",
       "4                                                                                                apple iphone x space grey 3 gb ram 64 gb storage poor quality productdidnt turn unboxingshame waste money   \n",
       "\n",
       "                                                                                                                                                                                      metaCorpus_processed  \n",
       "0  amazon customer silver 256 gb amazon return support poor purchase iphone x 26th oct18 start use 28th oct18 receive product already open inform amazon representative tell original product not issue...  \n",
       "1  showrobda space grey 64 gb amazing deal inr 69999 3rd iphone iphone 4s iphone 6s plus utter work middle class guy not switch iphone often android phone barely last 9 month though consider extremel...  \n",
       "2  ktron space grey 256 gb amazing beast iphone x 256 gb discount thank appario retail private ltd get 256 gb beast amazon great indian sale 80k additionally receive cash back rs 1000 delivery check ...  \n",
       "3  amazon customer space grey 64 gb battery charging bad new iphone x order new iphone x grey amazon sale phone look absolutely fine battery weak though fast charge option phone require 4 5 hour get ...  \n",
       "4                                                  amritpal singh space grey 64 gb shame not buy apple iphone x space grey 3 gb ram 64 gb storage poor quality productdidnt turn unboxingshame waste money  "
      ]
     },
     "execution_count": 3,
     "metadata": {},
     "output_type": "execute_result"
    }
   ],
   "source": [
    "short_corpus = nm.build_corpus(df, ['ReviewTitle'])\n",
    "long_corpus = nm.build_corpus(df, ['ReviewDescription'])\n",
    "meta_corpus = nm.build_corpus(df, ['Reviewer','Colour','Size','ReviewTitle','ReviewDescription'])\n",
    "\n",
    "#normalized corpus\n",
    "norm_short_corpus = nm.normalize_corpus(short_corpus)\n",
    "norm_long_corpus = nm.normalize_corpus(long_corpus)\n",
    "norm_meta_corpus = nm.normalize_corpus(meta_corpus)\n",
    "\n",
    "df['title_processed'] = norm_short_corpus\n",
    "df['desc_processed']= norm_long_corpus\n",
    "df['metaCorpus_processed'] = norm_meta_corpus\n",
    "\n",
    "df.head()"
   ]
  },
  {
   "cell_type": "markdown",
   "metadata": {},
   "source": [
    "# 4. Count Vectorizer: Get WordCount Distribution"
   ]
  },
  {
   "cell_type": "code",
   "execution_count": 10,
   "metadata": {},
   "outputs": [
    {
     "data": {
      "text/plain": [
       "(500, 34)"
      ]
     },
     "execution_count": 10,
     "metadata": {},
     "output_type": "execute_result"
    }
   ],
   "source": [
    "\n",
    "cv, cv_features = fe.countVectorizer(norm_long_corpus[:500],max_df=1.0, min_df=0.01, max_features=34)\n",
    "X_cv=cv_features\n",
    "y_cv=df['Rating'][:500]\n",
    "\n",
    "X_cv.shape"
   ]
  },
  {
   "cell_type": "markdown",
   "metadata": {},
   "source": [
    "# 5. Split Data into Train-Test set"
   ]
  },
  {
   "cell_type": "code",
   "execution_count": 11,
   "metadata": {},
   "outputs": [],
   "source": [
    "X_train, X_test, y_train, y_test= tsplit.split_data(X_cv,y_cv)"
   ]
  },
  {
   "cell_type": "code",
   "execution_count": 12,
   "metadata": {},
   "outputs": [
    {
     "data": {
      "text/plain": [
       "(350, 34)"
      ]
     },
     "execution_count": 12,
     "metadata": {},
     "output_type": "execute_result"
    }
   ],
   "source": [
    "X_train.shape"
   ]
  },
  {
   "cell_type": "code",
   "execution_count": 13,
   "metadata": {},
   "outputs": [
    {
     "data": {
      "text/plain": [
       "(350,)"
      ]
     },
     "execution_count": 13,
     "metadata": {},
     "output_type": "execute_result"
    }
   ],
   "source": [
    "y_train.shape"
   ]
  },
  {
   "cell_type": "markdown",
   "metadata": {},
   "source": [
    "# 6. (Multinomial) Naive Bayes Classifier for Sentiment Analysis"
   ]
  },
  {
   "cell_type": "code",
   "execution_count": 14,
   "metadata": {},
   "outputs": [
    {
     "name": "stdout",
     "output_type": "stream",
     "text": [
      "[[86  0  0]\n",
      " [ 0 14  0]\n",
      " [ 0  0 50]]\n",
      "             precision    recall  f1-score   support\n",
      "\n",
      "        1.0       1.00      1.00      1.00        86\n",
      "        3.0       1.00      1.00      1.00        14\n",
      "        5.0       1.00      1.00      1.00        50\n",
      "\n",
      "avg / total       1.00      1.00      1.00       150\n",
      "\n"
     ]
    }
   ],
   "source": [
    "model = nb.nbTrainer(X_train, X_test, y_train, y_test)\n"
   ]
  },
  {
   "cell_type": "code",
   "execution_count": 15,
   "metadata": {
    "scrolled": true
   },
   "outputs": [
    {
     "data": {
      "text/plain": [
       "array([-1.,  1.,  1., -1., -1.,  1., -1., -1.,  0., -1., -1.,  1.,  1.,\n",
       "       -1., -1.,  1., -1., -1.,  0., -1., -1.,  1.,  1., -1., -1.,  1.,\n",
       "       -1., -1.,  0., -1., -1.,  1.,  1., -1., -1.,  1., -1., -1.,  0.,\n",
       "       -1., -1.,  1.,  1., -1., -1.,  1., -1., -1.,  0., -1., -1.,  1.,\n",
       "        1., -1., -1.,  1., -1., -1.,  0., -1., -1.,  1.,  1., -1., -1.,\n",
       "        1., -1., -1.,  0., -1., -1.,  1.,  1., -1., -1.,  1., -1., -1.,\n",
       "        0., -1., -1.,  1.,  1., -1., -1.,  1., -1., -1.,  0., -1., -1.,\n",
       "        1.,  1., -1., -1.,  1., -1., -1.,  0., -1., -1.,  1.,  1., -1.,\n",
       "       -1.,  1., -1., -1.,  0., -1., -1.,  1.,  1., -1., -1.,  1., -1.,\n",
       "       -1.,  0., -1., -1.,  1.,  1., -1., -1.,  1., -1., -1.,  0., -1.,\n",
       "       -1.,  1.,  1., -1., -1.,  1., -1., -1.,  0., -1., -1.,  1.,  1.,\n",
       "       -1., -1.,  1., -1., -1.,  0., -1., -1.,  1.,  1., -1., -1.,  1.,\n",
       "       -1., -1.,  0., -1., -1.,  1.,  1., -1., -1.,  1., -1., -1.,  0.,\n",
       "       -1., -1.,  1.,  1., -1., -1.,  1., -1., -1.,  0., -1., -1.,  1.,\n",
       "        1., -1., -1.,  1., -1., -1.,  0., -1., -1.,  1.,  1., -1., -1.,\n",
       "        1., -1., -1.,  0., -1., -1.,  1.,  1., -1., -1.,  1., -1., -1.,\n",
       "        0., -1., -1.,  1.,  1., -1., -1.,  1., -1., -1.,  0., -1., -1.,\n",
       "        1.,  1., -1., -1.,  1., -1., -1.,  0., -1., -1.,  1.,  1., -1.,\n",
       "       -1.,  1., -1., -1.,  0., -1., -1.,  1.,  1., -1., -1.,  1., -1.,\n",
       "       -1.,  0., -1., -1.,  1.,  1., -1., -1.,  1., -1., -1.,  0., -1.,\n",
       "       -1.,  1.,  1., -1., -1.,  1., -1., -1.,  0., -1., -1.,  1.,  1.,\n",
       "       -1., -1.,  1., -1., -1.,  0., -1., -1.,  1.,  1., -1., -1.,  1.,\n",
       "       -1., -1.,  0., -1., -1.,  1.,  1., -1., -1.,  1., -1., -1.,  0.,\n",
       "       -1., -1.,  1.,  1., -1., -1.,  1., -1., -1.,  0., -1., -1.,  1.,\n",
       "        1., -1., -1.,  1., -1., -1.,  0., -1., -1.,  1.,  1., -1., -1.,\n",
       "        1., -1., -1.,  0., -1., -1.,  1.,  1., -1., -1.,  1., -1., -1.,\n",
       "        0., -1., -1.,  1.,  1., -1., -1.,  1., -1., -1.,  0., -1., -1.,\n",
       "        1.,  1., -1., -1.,  1., -1., -1.,  0., -1., -1.,  1.,  1., -1.,\n",
       "       -1.,  1., -1., -1.,  0., -1., -1.,  1.,  1., -1., -1.,  1., -1.,\n",
       "       -1.,  0., -1., -1.,  1.,  1., -1., -1.,  1., -1., -1.,  0., -1.,\n",
       "       -1.,  1.,  1., -1., -1.,  1., -1., -1.,  0., -1., -1.,  1.,  1.,\n",
       "       -1., -1.,  1., -1., -1.,  0., -1., -1.,  1.,  1., -1., -1.,  1.,\n",
       "       -1., -1.,  0., -1., -1.,  1.,  1., -1., -1.,  1., -1., -1.,  0.,\n",
       "       -1., -1.,  1.,  1., -1., -1.,  1., -1., -1.,  0., -1., -1.,  1.,\n",
       "        1., -1., -1.,  1., -1., -1.,  0., -1., -1.,  1.,  1., -1., -1.,\n",
       "        1., -1., -1.,  0., -1., -1.,  1.,  1., -1., -1.,  1., -1., -1.,\n",
       "        0., -1., -1.,  1.,  1., -1., -1.,  1., -1., -1.,  0., -1., -1.,\n",
       "        1.,  1., -1., -1.,  1., -1., -1.,  0., -1., -1.,  1.,  1., -1.,\n",
       "       -1.,  1., -1., -1.,  0., -1.])"
      ]
     },
     "execution_count": 15,
     "metadata": {},
     "output_type": "execute_result"
    }
   ],
   "source": [
    "\n",
    "preds = nb.nbPredictor(model, X_cv)\n",
    "preds"
   ]
  },
  {
   "cell_type": "markdown",
   "metadata": {},
   "source": [
    "# Predict for All Dataset"
   ]
  },
  {
   "cell_type": "code",
   "execution_count": 18,
   "metadata": {},
   "outputs": [],
   "source": [
    "cv, cv_features = fe.countVectorizer(norm_long_corpus,max_df=1.0, min_df=0.01, max_features=34)\n",
    "X = cv_features\n",
    "\n",
    "senti = nb.nbPredictor(model, X)\n",
    "df['Sentiment'] = senti"
   ]
  },
  {
   "cell_type": "markdown",
   "metadata": {},
   "source": [
    "# Convert DataFrame to JSON"
   ]
  },
  {
   "cell_type": "code",
   "execution_count": 19,
   "metadata": {},
   "outputs": [],
   "source": [
    "reviewJSON = df.to_json(orient='records',path_or_buf='sentimentAnalysis.json')"
   ]
  }
 ],
 "metadata": {
  "kernelspec": {
   "display_name": "Python 3",
   "language": "python",
   "name": "python3"
  },
  "language_info": {
   "codemirror_mode": {
    "name": "ipython",
    "version": 3
   },
   "file_extension": ".py",
   "mimetype": "text/x-python",
   "name": "python",
   "nbconvert_exporter": "python",
   "pygments_lexer": "ipython3",
   "version": "3.6.5"
  }
 },
 "nbformat": 4,
 "nbformat_minor": 2
}
