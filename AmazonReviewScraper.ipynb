{
 "cells": [
  {
   "cell_type": "code",
   "execution_count": 1,
   "metadata": {},
   "outputs": [],
   "source": [
    "#https://www.amazon.in/Apple-iPhone-Silver-Storage-Display/product-reviews/B0711T2L8K/ref=cm_cr_dp_d_show_all_btm?ie=UTF8&reviewerType=all_reviews\n",
    "\n",
    "import urllib\n",
    "import json\n",
    "from bs4 import BeautifulSoup\n",
    "import pandas as pd\n",
    "import re\n",
    "from time import sleep\n",
    "from random import randint\n",
    "import requests"
   ]
  },
  {
   "cell_type": "code",
   "execution_count": 2,
   "metadata": {},
   "outputs": [],
   "source": [
    "\n",
    "def requestURL(url):\n",
    "    proxies = {\"http\": \"http://proxy-chain.intel.com:911\",\"https\": \"http://proxy-chain.intel.com:912\"} \n",
    "    headers={'User-Agent': 'Mozilla/5.0 (X11; Linux x86_64) AppleWebKit/537.36 (KHTML, like Gecko) Chrome/42.0.2311.90 Safari/537.36'}\n",
    "    url_response = requests.get(url,proxies=proxies, headers=headers)    \n",
    "    page=url_response.content\n",
    "    status = url_response.status_code\n",
    "    soup = BeautifulSoup(page)\n",
    "    BShtml = soup.prettify('utf-8')  \n",
    "    return soup, status"
   ]
  },
  {
   "cell_type": "code",
   "execution_count": 3,
   "metadata": {
    "scrolled": false
   },
   "outputs": [
    {
     "name": "stdout",
     "output_type": "stream",
     "text": [
      "Enter Amazon Product Link: https://www.amazon.in/Apple-iPhone-Silver-64GB-Storage/dp/B0711T2L8K/ref=sr_1_1?s=electronics&ie=UTF8&qid=1548335262&sr=1-1&keywords=iphone+X\n"
     ]
    },
    {
     "name": "stderr",
     "output_type": "stream",
     "text": [
      "C:\\Users\\silkymis\\AppData\\Local\\Continuum\\anaconda3\\lib\\site-packages\\bs4\\__init__.py:181: UserWarning: No parser was explicitly specified, so I'm using the best available HTML parser for this system (\"lxml\"). This usually isn't a problem, but if you run this code on another system, or in a different virtual environment, it may use a different parser and behave differently.\n",
      "\n",
      "The code that caused this warning is on line 193 of the file C:\\Users\\silkymis\\AppData\\Local\\Continuum\\anaconda3\\lib\\runpy.py. To get rid of this warning, change code that looks like this:\n",
      "\n",
      " BeautifulSoup(YOUR_MARKUP})\n",
      "\n",
      "to this:\n",
      "\n",
      " BeautifulSoup(YOUR_MARKUP, \"lxml\")\n",
      "\n",
      "  markup_type=markup_type))\n"
     ]
    }
   ],
   "source": [
    "#https://www.amazon.in/Apple-iPhone-Silver-64GB-Storage/dp/B0711T2L8K/ref=sr_1_1?s=electronics&ie=UTF8&qid=1548335262&sr=1-1&keywords=iphone+X\n",
    "soup, status = requestURL(url=input('Enter Amazon Product Link: '))\n",
    "\n",
    "#Goto all reviews link:\n",
    "allReviewsURL = 'https://www.amazon.in'+ soup.find('a', attrs={'data-hook':'see-all-reviews-link-foot'})['href']"
   ]
  },
  {
   "cell_type": "code",
   "execution_count": 4,
   "metadata": {},
   "outputs": [],
   "source": [
    "def soup_extractor(URL):\n",
    "    for retry in range(1,5):\n",
    "        sleep(randint(1,5))\n",
    "        soupAll, status = requestURL(URL)\n",
    "        if(status!=200):\n",
    "            soup_extractor(URL)            \n",
    "        else:\n",
    "            return soupAll\n"
   ]
  },
  {
   "cell_type": "code",
   "execution_count": 5,
   "metadata": {},
   "outputs": [],
   "source": [
    "reviewer = []\n",
    "reviewDate = []\n",
    "colour = []\n",
    "size=[]\n",
    "verifiedPurchase = []\n",
    "rating = []\n",
    "reviewTitle=[]\n",
    "reviewDesc= []\n"
   ]
  },
  {
   "cell_type": "code",
   "execution_count": 9,
   "metadata": {
    "scrolled": true
   },
   "outputs": [],
   "source": [
    "def review_Scraper(reviewURL):\n",
    "    for i in range(2,111):\n",
    "        sleep(randint(1,6))\n",
    "      \n",
    "        \n",
    "        soupAll = soup_extractor(reviewURL)  \n",
    "                 \n",
    "        reviews= soupAll.find('div',attrs={'id':'cm_cr-review_list'})\n",
    "        if(reviews.find_all('div', attrs={'data-hook':'review'}) is not None):\n",
    "            \n",
    "            for div in reviews.find_all('div', attrs={'data-hook':'review'}):\n",
    "            \n",
    "                reviewer.append(div.find('span', attrs={'class':'a-profile-name'}).text.strip())    \n",
    "\n",
    "                reviewDate.append(div.find('span', attrs={'data-hook':'review-date'}).text.strip())\n",
    "\n",
    "                details = div.find('a', attrs={'class': 'a-size-mini a-link-normal a-color-secondary'}).text.split(':')\n",
    "                colour.append((re.sub('Size', '' ,details[1])).strip())\n",
    "                size.append(details[2].strip())\n",
    "\n",
    "                if(div.find('span', attrs={'data-hook':'avp-badge'})):\n",
    "                    verifiedPurchase.append(True)\n",
    "                else:\n",
    "                    verifiedPurchase.append(False)\n",
    "\n",
    "\n",
    "                rating.append(div.find('i', attrs={'data-hook':'review-star-rating'}).span.text.split()[0])\n",
    "\n",
    "\n",
    "                reviewTitle.append(div.find('a', attrs={'data-hook':'review-title'}).text.strip())\n",
    "\n",
    "                reviewDesc.append(div.find('span', attrs={'data-hook':'review-body'}).text.strip())\n",
    "            else:\n",
    "                continue\n",
    "        if((soupAll.find('li', attrs={'class':'a-last'}).a.get('href')) is None):\n",
    "            break;\n",
    "        else:\n",
    "            reviewURL= 'https://www.amazon.in'+soupAll.find('li', attrs={'class':'a-last'}).a['href']\n"
   ]
  },
  {
   "cell_type": "code",
   "execution_count": 10,
   "metadata": {},
   "outputs": [
    {
     "name": "stderr",
     "output_type": "stream",
     "text": [
      "C:\\Users\\silkymis\\AppData\\Local\\Continuum\\anaconda3\\lib\\site-packages\\bs4\\__init__.py:181: UserWarning: No parser was explicitly specified, so I'm using the best available HTML parser for this system (\"lxml\"). This usually isn't a problem, but if you run this code on another system, or in a different virtual environment, it may use a different parser and behave differently.\n",
      "\n",
      "The code that caused this warning is on line 193 of the file C:\\Users\\silkymis\\AppData\\Local\\Continuum\\anaconda3\\lib\\runpy.py. To get rid of this warning, change code that looks like this:\n",
      "\n",
      " BeautifulSoup(YOUR_MARKUP})\n",
      "\n",
      "to this:\n",
      "\n",
      " BeautifulSoup(YOUR_MARKUP, \"lxml\")\n",
      "\n",
      "  markup_type=markup_type))\n"
     ]
    }
   ],
   "source": [
    "\n",
    "review_Scraper(allReviewsURL)"
   ]
  },
  {
   "cell_type": "code",
   "execution_count": 11,
   "metadata": {},
   "outputs": [
    {
     "name": "stderr",
     "output_type": "stream",
     "text": [
      "C:\\Users\\silkymis\\AppData\\Local\\Continuum\\anaconda3\\lib\\site-packages\\ipykernel_launcher.py:4: FutureWarning: Passing in 'datetime64' dtype with no frequency is deprecated and will raise in a future version. Please pass in 'datetime64[ns]' instead.\n",
      "  after removing the cwd from sys.path.\n",
      "C:\\Users\\silkymis\\AppData\\Local\\Continuum\\anaconda3\\lib\\site-packages\\IPython\\core\\interactiveshell.py:2963: FutureWarning: Passing in 'datetime64' dtype with no frequency is deprecated and will raise in a future version. Please pass in 'datetime64[ns]' instead.\n",
      "  exec(code_obj, self.user_global_ns, self.user_ns)\n"
     ]
    }
   ],
   "source": [
    "import numpy as np\n",
    "reviews_df= pd.DataFrame()\n",
    "reviews_df['Reviewer'] = pd.Series(reviewer, dtype=str)\n",
    "reviews_df['DateOfReview'] = pd.Series(reviewDate, dtype=np.datetime64)\n",
    "reviews_df['Colour'] = pd.Series(colour, dtype=str)\n",
    "reviews_df['Size'] = pd.Series(size, dtype=str)\n",
    "reviews_df['VerifiedPurchase'] = pd.Series(verifiedPurchase, dtype=bool)\n",
    "reviews_df['Rating'] = pd.Series(rating, dtype=float)\n",
    "reviews_df['ReviewTitle'] = pd.Series(reviewTitle, dtype=str)\n",
    "reviews_df['ReviewDescription'] = pd.Series(reviewDesc, dtype=str)"
   ]
  },
  {
   "cell_type": "code",
   "execution_count": 12,
   "metadata": {},
   "outputs": [],
   "source": [
    "reviews_df.to_csv('AmazonReviews.csv', index=False)"
   ]
  }
 ],
 "metadata": {
  "kernelspec": {
   "display_name": "Python 3",
   "language": "python",
   "name": "python3"
  },
  "language_info": {
   "codemirror_mode": {
    "name": "ipython",
    "version": 3
   },
   "file_extension": ".py",
   "mimetype": "text/x-python",
   "name": "python",
   "nbconvert_exporter": "python",
   "pygments_lexer": "ipython3",
   "version": "3.6.5"
  }
 },
 "nbformat": 4,
 "nbformat_minor": 2
}
